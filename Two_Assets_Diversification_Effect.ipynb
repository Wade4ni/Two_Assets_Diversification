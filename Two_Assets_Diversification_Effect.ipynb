{
 "cells": [
  {
   "cell_type": "code",
   "execution_count": null,
   "id": "12fb7327",
   "metadata": {},
   "outputs": [],
   "source": [
    "import numpy as np\n",
    "import pandas as pd\n",
    "from pandas_datareader import data as wb\n",
    "import matplotlib.pyplot as plt\n",
    "stock1 = input(\"請輸入第一檔股票代號(台股代號+.TW): \")\n",
    "x1 = str(stock1)\n",
    "stock2 = input(\"\\n請輸入第二檔股票代號(台股代號+.TW): \")\n",
    "x2 = str(stock2)"
   ]
  },
  {
   "cell_type": "code",
   "execution_count": null,
   "id": "5293a97e",
   "metadata": {},
   "outputs": [],
   "source": [
    "portfolio = [x1,x2]\n",
    "stock_data = pd.DataFrame()\n",
    "for t in portfolio:\n",
    "    stock_data[t] = wb.DataReader(t, data_source=\"yahoo\", start=\"2000-12-17\")[\"Adj Close\"]\n",
    "stock_returns = np.log(stock_data / stock_data.shift(1)) "
   ]
  },
  {
   "cell_type": "code",
   "execution_count": null,
   "id": "49c907c0",
   "metadata": {},
   "outputs": [],
   "source": [
    "a = stock_returns.cov()*250 ##civ(x1,x2)-matrix##\n",
    "mvp1 = round(((a[x2][1]**2)-a[x2][0])/(a[x1][0]**2+a[x2][1]**2-2*a[x2][0]),2) ##最適配置##\n",
    "xr1 = stock_returns[x1].mean()*250      ##x1的預期報酬##\n",
    "xr2 = stock_returns[x2].mean()*250      ##x2的預期報酬##\n",
    "er = xr1*mvp1+xr2*(1-mvp1)     ##投組預期報酬##\n",
    "print(\"最適資產配置為:\\n\"+x1+\"  \"+str(mvp1)+\"\\n\"+x2+\"  \"+str(1-mvp1)+\"\\n預期報酬率為: \"+str(round(er*100,3))+\"%\")\n",
    "\n",
    "weights = np.array([mvp1,1-mvp1])\n",
    "portfolio_var = (np.dot(weights.T,np.dot(a,weights)))\n",
    "dr = portfolio_var-(weights[0]**2*a[x1][0])-(weights[1]**2*a[x2][1])\n",
    "print(\"可多角化掉的風險為: \"+str(dr*100)+\"%\")"
   ]
  },
  {
   "cell_type": "code",
   "execution_count": null,
   "id": "e92146ea",
   "metadata": {},
   "outputs": [],
   "source": [
    "##其他配置測試##\n",
    "w1 = float(input(\"請輸入\"+x1+\"之權重: \"))\n",
    "weights1 = np.array([w1,1-w1])\n",
    "er1 = xr1*weights1[0]+xr2*weights1[1]\n",
    "print(\"\\n資產配置為:\\n\"+x1+\"  \"+str(w1)+\"\\n\"+x2+\"  \"+str(1-w1))\n",
    "print(\"預期報酬率為: \"+str(round((er1*100),3))+\"%\")\n",
    "\n",
    "portfolio_var = (np.dot(weights1.T,np.dot(a,weights1)))\n",
    "dr = portfolio_var-(weights1[0]**2*a[x1][0])-(weights1[1]**2*a[x2][1])\n",
    "print(\"可多角化掉的風險為: \"+str(dr*100)+\"%\")"
   ]
  },
  {
   "cell_type": "code",
   "execution_count": null,
   "id": "e3b930ca",
   "metadata": {},
   "outputs": [],
   "source": [
    "stock_returns[x1].plot(figsize=(8,5)) ##x1報酬率波動##"
   ]
  },
  {
   "cell_type": "code",
   "execution_count": null,
   "id": "10958bb5",
   "metadata": {},
   "outputs": [],
   "source": [
    "stock_returns[x2].plot(figsize=(8,5)) ##x2報酬率波動##"
   ]
  }
 ],
 "metadata": {
  "kernelspec": {
   "display_name": "Python 3 (ipykernel)",
   "language": "python",
   "name": "python3"
  },
  "language_info": {
   "codemirror_mode": {
    "name": "ipython",
    "version": 3
   },
   "file_extension": ".py",
   "mimetype": "text/x-python",
   "name": "python",
   "nbconvert_exporter": "python",
   "pygments_lexer": "ipython3",
   "version": "3.9.7"
  }
 },
 "nbformat": 4,
 "nbformat_minor": 5
}
